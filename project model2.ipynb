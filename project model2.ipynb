{
 "cells": [
  {
   "cell_type": "code",
   "execution_count": 1,
   "metadata": {},
   "outputs": [],
   "source": [
    "from keras.datasets import imdb\n",
    "from keras.models import Sequential\n",
    "from keras.layers import Dense,Flatten, Dropout\n",
    "from keras.layers.convolutional import Conv1D, MaxPooling1D\n",
    "from keras.layers.embeddings import Embedding\n",
    "from keras.preprocessing import sequence\n",
    "import matplotlib.pyplot as plt             \n",
    "import seaborn as sn\n",
    "import pandas as pd"
   ]
  },
  {
   "cell_type": "markdown",
   "metadata": {},
   "source": [
    "# Loading the dataset"
   ]
  },
  {
   "cell_type": "code",
   "execution_count": 2,
   "metadata": {},
   "outputs": [],
   "source": [
    "top_words=5000\n",
    "input_length= 500\n",
    "(X_train,y_train),(X_test, y_test)= imdb.load_data(num_words=top_words)"
   ]
  },
  {
   "cell_type": "markdown",
   "metadata": {},
   "source": [
    "# Convert movie review data to feature matrix"
   ]
  },
  {
   "cell_type": "code",
   "execution_count": 3,
   "metadata": {},
   "outputs": [
    {
     "name": "stdout",
     "output_type": "stream",
     "text": [
      "\n",
      "(25000, 500)\n",
      "[[   0    0    0 ...   19  178   32]\n",
      " [   0    0    0 ...   16  145   95]\n",
      " [   0    0    0 ...    7  129  113]\n",
      " ...\n",
      " [   0    0    0 ...    4 3586    2]\n",
      " [   0    0    0 ...   12    9   23]\n",
      " [   0    0    0 ...  204  131    9]]\n",
      "\n",
      "(25000, 500)\n",
      "[[   0    0    0 ...   19  178   32]\n",
      " [   0    0    0 ...   16  145   95]\n",
      " [   0    0    0 ...    7  129  113]\n",
      " ...\n",
      " [   0    0    0 ...    4 3586    2]\n",
      " [   0    0    0 ...   12    9   23]\n",
      " [   0    0    0 ...  204  131    9]]\n"
     ]
    }
   ],
   "source": [
    "\n",
    "X_train =  sequence.pad_sequences(X_train,maxlen=input_length)\n",
    "print(); print(X_train.shape); print(X_train)\n",
    "\n",
    "X_test =  sequence.pad_sequences(X_test,maxlen=input_length)\n",
    "print(); print(X_train.shape); print(X_train)"
   ]
  },
  {
   "cell_type": "markdown",
   "metadata": {},
   "source": [
    "# setup a CNN network\n"
   ]
  },
  {
   "cell_type": "code",
   "execution_count": 4,
   "metadata": {},
   "outputs": [],
   "source": [
    "model = Sequential()\n",
    "model.add(Embedding(top_words,32,input_length=input_length))\n",
    "model.add(Conv1D(filters=32,kernel_size=3,padding='same', activation='relu'))\n",
    "model.add(MaxPooling1D(pool_size=2))\n",
    "model.add(Flatten())\n",
    "model.add(Dense(250,activation='relu'))\n",
    "model.add(Dense(1,activation='sigmoid'))"
   ]
  },
  {
   "cell_type": "code",
   "execution_count": 5,
   "metadata": {},
   "outputs": [],
   "source": [
    "model.compile(loss='binary_crossentropy',optimizer='adam', metrics=['accuracy'])"
   ]
  },
  {
   "cell_type": "code",
   "execution_count": 6,
   "metadata": {},
   "outputs": [
    {
     "name": "stdout",
     "output_type": "stream",
     "text": [
      "Epoch 1/100\n",
      "196/196 [==============================] - 14s 70ms/step - loss: 0.4936 - accuracy: 0.7193 - val_loss: 0.3062 - val_accuracy: 0.8700\n",
      "Epoch 2/100\n",
      "196/196 [==============================] - 14s 73ms/step - loss: 0.2250 - accuracy: 0.9124 - val_loss: 0.2755 - val_accuracy: 0.8850\n",
      "Epoch 3/100\n",
      "196/196 [==============================] - 15s 74ms/step - loss: 0.1686 - accuracy: 0.9355 - val_loss: 0.2928 - val_accuracy: 0.8818\n",
      "Epoch 4/100\n",
      "196/196 [==============================] - 15s 79ms/step - loss: 0.1252 - accuracy: 0.9562 - val_loss: 0.3215 - val_accuracy: 0.8785\n",
      "Epoch 5/100\n",
      "196/196 [==============================] - 15s 74ms/step - loss: 0.0775 - accuracy: 0.9772 - val_loss: 0.4012 - val_accuracy: 0.8712\n",
      "Epoch 6/100\n",
      "196/196 [==============================] - 13s 68ms/step - loss: 0.0376 - accuracy: 0.9911 - val_loss: 0.4769 - val_accuracy: 0.8708\n",
      "Epoch 7/100\n",
      "196/196 [==============================] - 14s 74ms/step - loss: 0.0146 - accuracy: 0.9979 - val_loss: 0.5545 - val_accuracy: 0.8682\n",
      "Epoch 8/100\n",
      "196/196 [==============================] - 15s 78ms/step - loss: 0.0049 - accuracy: 0.9995 - val_loss: 0.6375 - val_accuracy: 0.8675\n",
      "Epoch 9/100\n",
      "196/196 [==============================] - 14s 73ms/step - loss: 0.0018 - accuracy: 0.9998 - val_loss: 0.7109 - val_accuracy: 0.8684\n",
      "Epoch 10/100\n",
      "196/196 [==============================] - 14s 74ms/step - loss: 7.4952e-04 - accuracy: 1.0000 - val_loss: 0.7658 - val_accuracy: 0.8692\n",
      "Epoch 11/100\n",
      "196/196 [==============================] - 15s 75ms/step - loss: 4.5338e-04 - accuracy: 1.0000 - val_loss: 0.8065 - val_accuracy: 0.8697\n",
      "Epoch 12/100\n",
      "196/196 [==============================] - 15s 75ms/step - loss: 2.9554e-04 - accuracy: 1.0000 - val_loss: 0.8465 - val_accuracy: 0.8689\n",
      "Epoch 13/100\n",
      "196/196 [==============================] - 14s 73ms/step - loss: 2.1206e-04 - accuracy: 1.0000 - val_loss: 0.8761 - val_accuracy: 0.8694\n",
      "Epoch 14/100\n",
      "196/196 [==============================] - 14s 73ms/step - loss: 1.5777e-04 - accuracy: 1.0000 - val_loss: 0.9071 - val_accuracy: 0.8694\n",
      "Epoch 15/100\n",
      "196/196 [==============================] - 14s 74ms/step - loss: 1.2180e-04 - accuracy: 1.0000 - val_loss: 0.9331 - val_accuracy: 0.8695\n",
      "Epoch 16/100\n",
      "196/196 [==============================] - 15s 75ms/step - loss: 9.4971e-05 - accuracy: 1.0000 - val_loss: 0.9608 - val_accuracy: 0.8696\n",
      "Epoch 17/100\n",
      "196/196 [==============================] - 15s 75ms/step - loss: 7.5886e-05 - accuracy: 1.0000 - val_loss: 0.9828 - val_accuracy: 0.8694\n",
      "Epoch 18/100\n",
      "196/196 [==============================] - 14s 74ms/step - loss: 6.0850e-05 - accuracy: 1.0000 - val_loss: 1.0086 - val_accuracy: 0.8693\n",
      "Epoch 19/100\n",
      "196/196 [==============================] - 14s 74ms/step - loss: 4.9036e-05 - accuracy: 1.0000 - val_loss: 1.0322 - val_accuracy: 0.8692\n",
      "Epoch 20/100\n",
      "196/196 [==============================] - 15s 75ms/step - loss: 3.9902e-05 - accuracy: 1.0000 - val_loss: 1.0560 - val_accuracy: 0.8692\n",
      "Epoch 21/100\n",
      "196/196 [==============================] - 14s 73ms/step - loss: 3.2447e-05 - accuracy: 1.0000 - val_loss: 1.0791 - val_accuracy: 0.8692\n",
      "Epoch 22/100\n",
      "196/196 [==============================] - 15s 74ms/step - loss: 2.6714e-05 - accuracy: 1.0000 - val_loss: 1.0998 - val_accuracy: 0.8692\n",
      "Epoch 23/100\n",
      "196/196 [==============================] - 14s 73ms/step - loss: 2.2091e-05 - accuracy: 1.0000 - val_loss: 1.1203 - val_accuracy: 0.8691\n",
      "Epoch 24/100\n",
      "196/196 [==============================] - 15s 74ms/step - loss: 1.8247e-05 - accuracy: 1.0000 - val_loss: 1.1413 - val_accuracy: 0.8690\n",
      "Epoch 25/100\n",
      "196/196 [==============================] - 15s 74ms/step - loss: 1.5206e-05 - accuracy: 1.0000 - val_loss: 1.1616 - val_accuracy: 0.8689\n",
      "Epoch 26/100\n",
      "196/196 [==============================] - 15s 75ms/step - loss: 1.2676e-05 - accuracy: 1.0000 - val_loss: 1.1829 - val_accuracy: 0.8690\n",
      "Epoch 27/100\n",
      "196/196 [==============================] - 14s 73ms/step - loss: 1.0575e-05 - accuracy: 1.0000 - val_loss: 1.2026 - val_accuracy: 0.8688\n",
      "Epoch 28/100\n",
      "196/196 [==============================] - 14s 73ms/step - loss: 8.8951e-06 - accuracy: 1.0000 - val_loss: 1.2220 - val_accuracy: 0.8688\n",
      "Epoch 29/100\n",
      "196/196 [==============================] - 15s 76ms/step - loss: 7.4846e-06 - accuracy: 1.0000 - val_loss: 1.2409 - val_accuracy: 0.8689\n",
      "Epoch 30/100\n",
      "196/196 [==============================] - 14s 74ms/step - loss: 6.3363e-06 - accuracy: 1.0000 - val_loss: 1.2594 - val_accuracy: 0.8689\n",
      "Epoch 31/100\n",
      "196/196 [==============================] - 15s 75ms/step - loss: 5.3675e-06 - accuracy: 1.0000 - val_loss: 1.2779 - val_accuracy: 0.8689\n",
      "Epoch 32/100\n",
      "196/196 [==============================] - 14s 74ms/step - loss: 4.5608e-06 - accuracy: 1.0000 - val_loss: 1.2951 - val_accuracy: 0.8688\n",
      "Epoch 33/100\n",
      "196/196 [==============================] - 15s 75ms/step - loss: 3.8930e-06 - accuracy: 1.0000 - val_loss: 1.3133 - val_accuracy: 0.8689\n",
      "Epoch 34/100\n",
      "196/196 [==============================] - 14s 74ms/step - loss: 3.3428e-06 - accuracy: 1.0000 - val_loss: 1.3305 - val_accuracy: 0.8690\n",
      "Epoch 35/100\n",
      "196/196 [==============================] - 15s 75ms/step - loss: 2.8558e-06 - accuracy: 1.0000 - val_loss: 1.3468 - val_accuracy: 0.8690\n",
      "Epoch 36/100\n",
      "196/196 [==============================] - 14s 74ms/step - loss: 2.4562e-06 - accuracy: 1.0000 - val_loss: 1.3628 - val_accuracy: 0.8688\n",
      "Epoch 37/100\n",
      "196/196 [==============================] - 15s 76ms/step - loss: 2.1207e-06 - accuracy: 1.0000 - val_loss: 1.3801 - val_accuracy: 0.8688\n",
      "Epoch 38/100\n",
      "196/196 [==============================] - 14s 74ms/step - loss: 1.8398e-06 - accuracy: 1.0000 - val_loss: 1.3966 - val_accuracy: 0.8688\n",
      "Epoch 39/100\n",
      "196/196 [==============================] - 15s 76ms/step - loss: 1.5955e-06 - accuracy: 1.0000 - val_loss: 1.4113 - val_accuracy: 0.8690\n",
      "Epoch 40/100\n",
      "196/196 [==============================] - 14s 73ms/step - loss: 1.3868e-06 - accuracy: 1.0000 - val_loss: 1.4261 - val_accuracy: 0.8690\n",
      "Epoch 41/100\n",
      "196/196 [==============================] - 12s 62ms/step - loss: 1.2109e-06 - accuracy: 1.0000 - val_loss: 1.4432 - val_accuracy: 0.8686\n",
      "Epoch 42/100\n",
      "196/196 [==============================] - 12s 62ms/step - loss: 1.0557e-06 - accuracy: 1.0000 - val_loss: 1.4573 - val_accuracy: 0.8687\n",
      "Epoch 43/100\n",
      "196/196 [==============================] - 12s 61ms/step - loss: 9.2517e-07 - accuracy: 1.0000 - val_loss: 1.4712 - val_accuracy: 0.8688\n",
      "Epoch 44/100\n",
      "196/196 [==============================] - 12s 61ms/step - loss: 8.1345e-07 - accuracy: 1.0000 - val_loss: 1.4854 - val_accuracy: 0.8689\n",
      "Epoch 45/100\n",
      "196/196 [==============================] - 12s 64ms/step - loss: 7.1416e-07 - accuracy: 1.0000 - val_loss: 1.4995 - val_accuracy: 0.8689\n",
      "Epoch 46/100\n",
      "196/196 [==============================] - 12s 61ms/step - loss: 6.2930e-07 - accuracy: 1.0000 - val_loss: 1.5133 - val_accuracy: 0.8688\n",
      "Epoch 47/100\n",
      "196/196 [==============================] - 12s 61ms/step - loss: 5.5670e-07 - accuracy: 1.0000 - val_loss: 1.5263 - val_accuracy: 0.8688\n",
      "Epoch 48/100\n",
      "196/196 [==============================] - 12s 61ms/step - loss: 4.9229e-07 - accuracy: 1.0000 - val_loss: 1.5419 - val_accuracy: 0.8683\n",
      "Epoch 49/100\n",
      "196/196 [==============================] - 12s 61ms/step - loss: 4.3659e-07 - accuracy: 1.0000 - val_loss: 1.5538 - val_accuracy: 0.8686\n",
      "Epoch 50/100\n",
      "196/196 [==============================] - 12s 61ms/step - loss: 3.8715e-07 - accuracy: 1.0000 - val_loss: 1.5651 - val_accuracy: 0.8686\n",
      "Epoch 51/100\n",
      "196/196 [==============================] - 12s 62ms/step - loss: 3.4424e-07 - accuracy: 1.0000 - val_loss: 1.5792 - val_accuracy: 0.8686\n",
      "Epoch 52/100\n",
      "196/196 [==============================] - 12s 61ms/step - loss: 3.0665e-07 - accuracy: 1.0000 - val_loss: 1.5922 - val_accuracy: 0.8685\n",
      "Epoch 53/100\n",
      "196/196 [==============================] - 12s 62ms/step - loss: 2.7423e-07 - accuracy: 1.0000 - val_loss: 1.6038 - val_accuracy: 0.8686\n",
      "Epoch 54/100\n",
      "196/196 [==============================] - 12s 61ms/step - loss: 2.4530e-07 - accuracy: 1.0000 - val_loss: 1.6164 - val_accuracy: 0.8685\n",
      "Epoch 55/100\n",
      "196/196 [==============================] - 12s 62ms/step - loss: 2.1937e-07 - accuracy: 1.0000 - val_loss: 1.6286 - val_accuracy: 0.8684\n",
      "Epoch 56/100\n",
      "196/196 [==============================] - 12s 62ms/step - loss: 1.9658e-07 - accuracy: 1.0000 - val_loss: 1.6411 - val_accuracy: 0.8683\n",
      "Epoch 57/100\n",
      "196/196 [==============================] - 12s 63ms/step - loss: 1.7695e-07 - accuracy: 1.0000 - val_loss: 1.6529 - val_accuracy: 0.8682\n",
      "Epoch 58/100\n",
      "196/196 [==============================] - 12s 62ms/step - loss: 1.5861e-07 - accuracy: 1.0000 - val_loss: 1.6633 - val_accuracy: 0.8685\n",
      "Epoch 59/100\n",
      "196/196 [==============================] - 12s 61ms/step - loss: 1.4285e-07 - accuracy: 1.0000 - val_loss: 1.6746 - val_accuracy: 0.8684\n",
      "Epoch 60/100\n",
      "196/196 [==============================] - 12s 61ms/step - loss: 1.2865e-07 - accuracy: 1.0000 - val_loss: 1.6859 - val_accuracy: 0.8684\n",
      "Epoch 61/100\n",
      "196/196 [==============================] - 12s 63ms/step - loss: 1.1607e-07 - accuracy: 1.0000 - val_loss: 1.6981 - val_accuracy: 0.8682\n",
      "Epoch 62/100\n",
      "196/196 [==============================] - 12s 62ms/step - loss: 1.0474e-07 - accuracy: 1.0000 - val_loss: 1.7092 - val_accuracy: 0.8682\n",
      "Epoch 63/100\n",
      "196/196 [==============================] - 12s 61ms/step - loss: 9.4538e-08 - accuracy: 1.0000 - val_loss: 1.7217 - val_accuracy: 0.8683\n",
      "Epoch 64/100\n",
      "196/196 [==============================] - 12s 61ms/step - loss: 8.5746e-08 - accuracy: 1.0000 - val_loss: 1.7304 - val_accuracy: 0.8682\n",
      "Epoch 65/100\n",
      "196/196 [==============================] - 13s 64ms/step - loss: 7.7726e-08 - accuracy: 1.0000 - val_loss: 1.7422 - val_accuracy: 0.8682\n",
      "Epoch 66/100\n",
      "196/196 [==============================] - 388s 2s/step - loss: 7.0298e-08 - accuracy: 1.0000 - val_loss: 1.7522 - val_accuracy: 0.8682\n",
      "Epoch 67/100\n",
      "196/196 [==============================] - 15s 79ms/step - loss: 6.3860e-08 - accuracy: 1.0000 - val_loss: 1.7630 - val_accuracy: 0.8682\n",
      "Epoch 68/100\n",
      "196/196 [==============================] - 16s 80ms/step - loss: 5.8039e-08 - accuracy: 1.0000 - val_loss: 1.7727 - val_accuracy: 0.8681\n",
      "Epoch 69/100\n",
      "196/196 [==============================] - 16s 82ms/step - loss: 5.2649e-08 - accuracy: 1.0000 - val_loss: 1.7842 - val_accuracy: 0.8682\n",
      "Epoch 70/100\n",
      "196/196 [==============================] - 15s 76ms/step - loss: 4.7976e-08 - accuracy: 1.0000 - val_loss: 1.7931 - val_accuracy: 0.8680\n",
      "Epoch 71/100\n",
      "196/196 [==============================] - 14s 72ms/step - loss: 4.3671e-08 - accuracy: 1.0000 - val_loss: 1.8042 - val_accuracy: 0.8681\n",
      "Epoch 72/100\n",
      "196/196 [==============================] - 14s 71ms/step - loss: 3.9818e-08 - accuracy: 1.0000 - val_loss: 1.8136 - val_accuracy: 0.8681\n",
      "Epoch 73/100\n",
      "196/196 [==============================] - 14s 73ms/step - loss: 3.6276e-08 - accuracy: 1.0000 - val_loss: 1.8246 - val_accuracy: 0.8683\n",
      "Epoch 74/100\n",
      "196/196 [==============================] - 14s 72ms/step - loss: 3.3108e-08 - accuracy: 1.0000 - val_loss: 1.8341 - val_accuracy: 0.8681\n",
      "Epoch 75/100\n",
      "196/196 [==============================] - 14s 73ms/step - loss: 3.0306e-08 - accuracy: 1.0000 - val_loss: 1.8437 - val_accuracy: 0.8681\n",
      "Epoch 76/100\n",
      "196/196 [==============================] - 14s 71ms/step - loss: 2.7677e-08 - accuracy: 1.0000 - val_loss: 1.8535 - val_accuracy: 0.8682\n",
      "Epoch 77/100\n",
      "196/196 [==============================] - 14s 73ms/step - loss: 2.5308e-08 - accuracy: 1.0000 - val_loss: 1.8627 - val_accuracy: 0.8679\n",
      "Epoch 78/100\n",
      "196/196 [==============================] - 14s 71ms/step - loss: 2.3208e-08 - accuracy: 1.0000 - val_loss: 1.8725 - val_accuracy: 0.8680\n",
      "Epoch 79/100\n",
      "196/196 [==============================] - 15s 74ms/step - loss: 2.1274e-08 - accuracy: 1.0000 - val_loss: 1.8817 - val_accuracy: 0.8680\n",
      "Epoch 80/100\n",
      "196/196 [==============================] - 14s 71ms/step - loss: 1.9527e-08 - accuracy: 1.0000 - val_loss: 1.8908 - val_accuracy: 0.8679\n",
      "Epoch 81/100\n",
      "196/196 [==============================] - 15s 74ms/step - loss: 1.7952e-08 - accuracy: 1.0000 - val_loss: 1.9009 - val_accuracy: 0.8681\n",
      "Epoch 82/100\n",
      "196/196 [==============================] - 14s 72ms/step - loss: 1.6498e-08 - accuracy: 1.0000 - val_loss: 1.9090 - val_accuracy: 0.8676\n",
      "Epoch 83/100\n",
      "196/196 [==============================] - 14s 73ms/step - loss: 1.5189e-08 - accuracy: 1.0000 - val_loss: 1.9180 - val_accuracy: 0.8676\n",
      "Epoch 84/100\n",
      "196/196 [==============================] - 14s 72ms/step - loss: 1.3999e-08 - accuracy: 1.0000 - val_loss: 1.9278 - val_accuracy: 0.8682\n",
      "Epoch 85/100\n",
      "196/196 [==============================] - 14s 73ms/step - loss: 1.2913e-08 - accuracy: 1.0000 - val_loss: 1.9365 - val_accuracy: 0.8681\n",
      "Epoch 86/100\n",
      "196/196 [==============================] - 15s 76ms/step - loss: 1.1925e-08 - accuracy: 1.0000 - val_loss: 1.9450 - val_accuracy: 0.8680\n",
      "Epoch 87/100\n",
      "196/196 [==============================] - 14s 71ms/step - loss: 1.1006e-08 - accuracy: 1.0000 - val_loss: 1.9532 - val_accuracy: 0.8678\n",
      "Epoch 88/100\n",
      "196/196 [==============================] - 14s 72ms/step - loss: 1.0182e-08 - accuracy: 1.0000 - val_loss: 1.9620 - val_accuracy: 0.8679\n",
      "Epoch 89/100\n",
      "196/196 [==============================] - 15s 74ms/step - loss: 9.4296e-09 - accuracy: 1.0000 - val_loss: 1.9698 - val_accuracy: 0.8676\n",
      "Epoch 90/100\n",
      "196/196 [==============================] - 14s 74ms/step - loss: 8.7414e-09 - accuracy: 1.0000 - val_loss: 1.9783 - val_accuracy: 0.8676\n",
      "Epoch 91/100\n",
      "196/196 [==============================] - 14s 71ms/step - loss: 8.1066e-09 - accuracy: 1.0000 - val_loss: 1.9864 - val_accuracy: 0.8676\n",
      "Epoch 92/100\n",
      "196/196 [==============================] - 14s 72ms/step - loss: 7.5301e-09 - accuracy: 1.0000 - val_loss: 1.9946 - val_accuracy: 0.8677\n",
      "Epoch 93/100\n",
      "196/196 [==============================] - 15s 77ms/step - loss: 7.0086e-09 - accuracy: 1.0000 - val_loss: 2.0031 - val_accuracy: 0.8680\n",
      "Epoch 94/100\n",
      "196/196 [==============================] - 15s 76ms/step - loss: 6.5152e-09 - accuracy: 1.0000 - val_loss: 2.0101 - val_accuracy: 0.8677\n",
      "Epoch 95/100\n",
      "196/196 [==============================] - 14s 71ms/step - loss: 6.0884e-09 - accuracy: 1.0000 - val_loss: 2.0176 - val_accuracy: 0.8676\n",
      "Epoch 96/100\n",
      "196/196 [==============================] - 14s 72ms/step - loss: 5.6913e-09 - accuracy: 1.0000 - val_loss: 2.0248 - val_accuracy: 0.8676\n",
      "Epoch 97/100\n",
      "196/196 [==============================] - 15s 75ms/step - loss: 5.3367e-09 - accuracy: 1.0000 - val_loss: 2.0316 - val_accuracy: 0.8675\n",
      "Epoch 98/100\n",
      "196/196 [==============================] - 14s 71ms/step - loss: 5.0071e-09 - accuracy: 1.0000 - val_loss: 2.0384 - val_accuracy: 0.8675\n",
      "Epoch 99/100\n",
      "196/196 [==============================] - 13s 68ms/step - loss: 4.7128e-09 - accuracy: 1.0000 - val_loss: 2.0456 - val_accuracy: 0.8675\n",
      "Epoch 100/100\n",
      "196/196 [==============================] - 13s 64ms/step - loss: 4.4435e-09 - accuracy: 1.0000 - val_loss: 2.0517 - val_accuracy: 0.8674\n"
     ]
    }
   ],
   "source": [
    "    \n",
    "\n",
    "history = model.fit(X_train,y_train, validation_data=(X_test,y_test),epochs=100,batch_size=128)"
   ]
  },
  {
   "cell_type": "markdown",
   "metadata": {},
   "source": [
    "* final evaluation of the model"
   ]
  },
  {
   "cell_type": "code",
   "execution_count": 14,
   "metadata": {},
   "outputs": [
    {
     "name": "stdout",
     "output_type": "stream",
     "text": [
      "782/782 [==============================] - 4s 5ms/step - loss: 2.0517 - accuracy: 0.8674\n"
     ]
    }
   ],
   "source": [
    "\n",
    "scores = model.evaluate(X_test,y_test,verbose=1)"
   ]
  },
  {
   "cell_type": "markdown",
   "metadata": {},
   "source": [
    "# plots of accuracy and loss function and some predictions "
   ]
  },
  {
   "cell_type": "code",
   "execution_count": 15,
   "metadata": {},
   "outputs": [],
   "source": [
    "prediction = model.predict(X_test)"
   ]
  },
  {
   "cell_type": "code",
   "execution_count": 16,
   "metadata": {},
   "outputs": [
    {
     "name": "stdout",
     "output_type": "stream",
     "text": [
      "[7.7018558e-05 1.0000000e+00 9.9999762e-01 4.1797894e-09 1.0000000e+00]\n"
     ]
    }
   ],
   "source": [
    "import numpy as np\n",
    "prediction = np.asarray(prediction).reshape(1, -1)[0,:]\n",
    "print(prediction[:5])"
   ]
  },
  {
   "cell_type": "code",
   "execution_count": 17,
   "metadata": {},
   "outputs": [
    {
     "name": "stdout",
     "output_type": "stream",
     "text": [
      "[0 1 1 0 1]\n"
     ]
    }
   ],
   "source": [
    "print(y_test[:5])"
   ]
  },
  {
   "cell_type": "code",
   "execution_count": 18,
   "metadata": {},
   "outputs": [],
   "source": [
    "from sklearn.metrics import confusion_matrix\n"
   ]
  },
  {
   "cell_type": "code",
   "execution_count": 19,
   "metadata": {},
   "outputs": [],
   "source": [
    "true = pd.Categorical(list(np.where(np.array(y_test) == 1, 'good','bad')), categories = ['good','bad'])\n",
    "prediction1 = pd.Categorical(list(np.where(np.array(prediction) == 1, 'good','bad')), categories = ['good','bad'])"
   ]
  },
  {
   "cell_type": "code",
   "execution_count": 20,
   "metadata": {},
   "outputs": [
    {
     "data": {
      "image/png": "[encoded data removed]",
      "text/plain": [
       "<Figure size 432x288 with 2 Axes>"
      ]
     },
     "metadata": {
      "needs_background": "light"
     },
     "output_type": "display_data"
    }
   ],
   "source": [
    "CM = confusion_matrix(true, prediction1)\n",
    "ax = plt.axes()\n",
    "sn.heatmap(CM, annot=True, \n",
    "           annot_kws={\"size\": 15}, \n",
    "           xticklabels=['good','bad'], \n",
    "           yticklabels=['good','bad'], ax = ax)\n",
    "ax.set_title('Confusion matrix')\n",
    "plt.show()"
   ]
  },
  {
   "cell_type": "code",
   "execution_count": 23,
   "metadata": {},
   "outputs": [],
   "source": [
    "def plot_accuracy_loss(history):\n",
    "    \"\"\"\n",
    "        Plot the accuracy and the loss during the training of the nn.\n",
    "    \"\"\"\n",
    "    fig = plt.figure(figsize=(20,10))\n",
    "\n",
    "    # Plot accuracy\n",
    "    plt.subplot(221)\n",
    "    plt.plot(history.history['accuracy'],'bo--', label = \"accuracy\")\n",
    "    plt.plot(history.history['val_accuracy'], 'ro--', label = \"val_accuracy\")\n",
    "    plt.title(\"train_acc vs val_acc\")\n",
    "    plt.ylabel(\"accuracy\")\n",
    "    plt.xlabel(\"epochs\")\n",
    "    plt.legend()\n",
    "\n",
    "    # Plot loss function\n",
    "    plt.subplot(222)\n",
    "    plt.plot(history.history['loss'],'bo--', label = \"loss\")\n",
    "    plt.plot(history.history['val_loss'], 'ro--', label = \"val_loss\")\n",
    "    plt.title(\"train_loss vs val_loss\")\n",
    "    plt.ylabel(\"loss\")\n",
    "    plt.xlabel(\"epochs\")\n",
    "\n",
    "    plt.legend()\n",
    "    plt.show()"
   ]
  },
  {
   "cell_type": "code",
   "execution_count": 24,
   "metadata": {},
   "outputs": [
    {
     "data": {
      "image/png": "[encoded data removed]",
      "text/plain": [
       "<Figure size 1440x720 with 2 Axes>"
      ]
     },
     "metadata": {
      "needs_background": "light"
     },
     "output_type": "display_data"
    }
   ],
   "source": [
    "plot_accuracy_loss(history)"
   ]
  }
 ],
 "metadata": {
  "interpreter": {
   "hash": "0add21ba4d0cc7378d54c62c01afe8380ef97298173618250dee99eafd3f9c67"
  },
  "kernelspec": {
   "display_name": "Python 3.9.5 64-bit",
   "language": "python",
   "name": "python3"
  },
  "language_info": {
   "codemirror_mode": {
    "name": "ipython",
    "version": 3
   },
   "file_extension": ".py",
   "mimetype": "text/x-python",
   "name": "python",
   "nbconvert_exporter": "python",
   "pygments_lexer": "ipython3",
   "version": "3.9.5"
  },
  "orig_nbformat": 4
 },
 "nbformat": 4,
 "nbformat_minor": 2
}
