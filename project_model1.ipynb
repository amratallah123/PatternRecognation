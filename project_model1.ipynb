{
  "cells": [
    {
      "cell_type": "markdown",
      "metadata": {
        "id": "view-in-github",
        "colab_type": "text"
      },
      "source": [
        "<a href=\"https://colab.research.google.com/github/amratallah123/PatternRecognation/blob/master/project_model1.ipynb\" target=\"_parent\"><img src=\"https://colab.research.google.com/assets/colab-badge.svg\" alt=\"Open In Colab\"/></a>"
      ]
    },
    {
      "cell_type": "code",
      "execution_count": null,
      "metadata": {
        "id": "jpJncU5HKnq_"
      },
      "outputs": [],
      "source": [
        "from keras.datasets import imdb\n",
        "from keras.models import Sequential\n",
        "from keras.layers import Dense,Flatten, Dropout\n",
        "from keras.layers.convolutional import Conv1D, MaxPooling1D\n",
        "from keras.layers.embeddings import Embedding\n",
        "from keras.preprocessing import sequence\n",
        "import matplotlib.pyplot as plt             \n",
        "import seaborn as sn\n",
        "import pandas as pd"
      ]
    },
    {
      "cell_type": "markdown",
      "metadata": {
        "id": "5aZ4E-8dKnrC"
      },
      "source": [
        "# Loading the dataset"
      ]
    },
    {
      "cell_type": "code",
      "execution_count": null,
      "metadata": {
        "id": "5WaHvI-eKnrE"
      },
      "outputs": [],
      "source": [
        "top_words=5000\n",
        "input_length= 500\n",
        "(X_train,y_train),(X_test, y_test)= imdb.load_data(num_words=top_words)"
      ]
    },
    {
      "cell_type": "markdown",
      "metadata": {
        "id": "_sh7JNk6KnrE"
      },
      "source": [
        "# Convert movie review data to feature matrix"
      ]
    },
    {
      "cell_type": "code",
      "execution_count": null,
      "metadata": {
        "id": "SYa_tPRmKnrF",
        "outputId": "27165af1-31c5-4af9-bedb-35cc941425c1"
      },
      "outputs": [
        {
          "name": "stdout",
          "output_type": "stream",
          "text": [
            "\n",
            "(25000, 500)\n",
            "[[   0    0    0 ...   19  178   32]\n",
            " [   0    0    0 ...   16  145   95]\n",
            " [   0    0    0 ...    7  129  113]\n",
            " ...\n",
            " [   0    0    0 ...    4 3586    2]\n",
            " [   0    0    0 ...   12    9   23]\n",
            " [   0    0    0 ...  204  131    9]]\n",
            "\n",
            "(25000, 500)\n",
            "[[   0    0    0 ...   19  178   32]\n",
            " [   0    0    0 ...   16  145   95]\n",
            " [   0    0    0 ...    7  129  113]\n",
            " ...\n",
            " [   0    0    0 ...    4 3586    2]\n",
            " [   0    0    0 ...   12    9   23]\n",
            " [   0    0    0 ...  204  131    9]]\n"
          ]
        }
      ],
      "source": [
        "\n",
        "X_train =  sequence.pad_sequences(X_train,maxlen=input_length)\n",
        "print(); print(X_train.shape); print(X_train)\n",
        "\n",
        "X_test =  sequence.pad_sequences(X_test,maxlen=input_length)\n",
        "print(); print(X_train.shape); print(X_train)"
      ]
    },
    {
      "cell_type": "markdown",
      "metadata": {
        "id": "BDpodmKPKnrG"
      },
      "source": [
        "# setup a CNN network\n"
      ]
    },
    {
      "cell_type": "code",
      "execution_count": null,
      "metadata": {
        "id": "2XLx7YIKKnrG"
      },
      "outputs": [],
      "source": [
        "# model = Sequential()\n",
        "# model.add(Embedding(top_words,32,input_length=input_length))\n",
        "# model.add(Conv1D(filters=32,kernel_size=3,padding='same', activation='relu'))\n",
        "# model.add(MaxPooling1D(pool_size=2))\n",
        "# model.add(Flatten())\n",
        "# model.add(Dense(250,activation='relu'))\n",
        "# model.add(Dense(1,activation='sigmoid'))"
      ]
    },
    {
      "cell_type": "code",
      "execution_count": null,
      "metadata": {
        "id": "MHW-GOVAKnrH"
      },
      "outputs": [],
      "source": [
        "model = Sequential()\n",
        "model.add(Embedding(top_words,32,input_length=input_length))\n",
        "model.add(MaxPooling1D(pool_size=2))\n",
        "model.add(Conv1D(filters=128,kernel_size=3,padding='same', activation='relu'))\n",
        "model.add(MaxPooling1D(pool_size=2))\n",
        "model.add(Conv1D(filters=256,kernel_size=3,padding='same', activation='relu'))\n",
        "model.add(MaxPooling1D(pool_size=2))\n",
        "model.add(Conv1D(filters=512,kernel_size=3,padding='same', activation='relu'))\n",
        "model.add(MaxPooling1D(pool_size=2))\n",
        "model.add(Flatten())\n",
        "model.add(Dense(128,activation='relu'))\n",
        "model.add(Dropout(0.5))\n",
        "model.add(Dense(1,activation='sigmoid'))"
      ]
    },
    {
      "cell_type": "code",
      "execution_count": null,
      "metadata": {
        "id": "w9pihLUsKnrI"
      },
      "outputs": [],
      "source": [
        "model.compile(loss='binary_crossentropy',optimizer='adam', metrics=['accuracy'])"
      ]
    },
    {
      "cell_type": "code",
      "execution_count": null,
      "metadata": {
        "id": "yi2q0KcOKnrJ",
        "outputId": "6e86f919-3a94-4ed1-9238-a1e9fa225b27"
      },
      "outputs": [
        {
          "name": "stdout",
          "output_type": "stream",
          "text": [
            "Epoch 1/50\n",
            "196/196 [==============================] - 75s 382ms/step - loss: 0.5450 - accuracy: 0.6778 - val_loss: 0.2935 - val_accuracy: 0.8782\n",
            "Epoch 2/50\n",
            "196/196 [==============================] - 71s 363ms/step - loss: 0.2399 - accuracy: 0.9084 - val_loss: 0.2529 - val_accuracy: 0.8961\n",
            "Epoch 3/50\n",
            "196/196 [==============================] - 77s 394ms/step - loss: 0.1524 - accuracy: 0.9458 - val_loss: 0.2762 - val_accuracy: 0.8936\n",
            "Epoch 4/50\n",
            "196/196 [==============================] - 70s 360ms/step - loss: 0.0969 - accuracy: 0.9682 - val_loss: 0.3583 - val_accuracy: 0.8862\n",
            "Epoch 5/50\n",
            "196/196 [==============================] - 70s 359ms/step - loss: 0.0580 - accuracy: 0.9804 - val_loss: 0.4583 - val_accuracy: 0.8824\n",
            "Epoch 6/50\n",
            "196/196 [==============================] - 74s 378ms/step - loss: 0.0350 - accuracy: 0.9884 - val_loss: 0.5294 - val_accuracy: 0.8829\n",
            "Epoch 7/50\n",
            "196/196 [==============================] - 72s 369ms/step - loss: 0.0234 - accuracy: 0.9927 - val_loss: 0.5963 - val_accuracy: 0.8818\n",
            "Epoch 8/50\n",
            "196/196 [==============================] - 72s 367ms/step - loss: 0.0155 - accuracy: 0.9953 - val_loss: 0.7197 - val_accuracy: 0.8778\n",
            "Epoch 9/50\n",
            "196/196 [==============================] - 74s 379ms/step - loss: 0.0196 - accuracy: 0.9932 - val_loss: 0.8134 - val_accuracy: 0.8701\n",
            "Epoch 10/50\n",
            "196/196 [==============================] - 72s 369ms/step - loss: 0.0184 - accuracy: 0.9936 - val_loss: 0.8957 - val_accuracy: 0.8785\n",
            "Epoch 11/50\n",
            "196/196 [==============================] - 72s 366ms/step - loss: 0.0082 - accuracy: 0.9972 - val_loss: 0.9543 - val_accuracy: 0.8788\n",
            "Epoch 12/50\n",
            "196/196 [==============================] - 73s 372ms/step - loss: 0.0066 - accuracy: 0.9978 - val_loss: 0.9831 - val_accuracy: 0.8778\n",
            "Epoch 13/50\n",
            "196/196 [==============================] - 74s 378ms/step - loss: 0.0112 - accuracy: 0.9967 - val_loss: 0.8132 - val_accuracy: 0.8782\n",
            "Epoch 14/50\n",
            "196/196 [==============================] - 73s 374ms/step - loss: 0.0118 - accuracy: 0.9960 - val_loss: 0.9694 - val_accuracy: 0.8795\n",
            "Epoch 15/50\n",
            "196/196 [==============================] - 72s 367ms/step - loss: 0.0116 - accuracy: 0.9963 - val_loss: 0.8197 - val_accuracy: 0.8772\n",
            "Epoch 16/50\n",
            "196/196 [==============================] - 73s 375ms/step - loss: 0.0203 - accuracy: 0.9934 - val_loss: 0.7654 - val_accuracy: 0.8748\n",
            "Epoch 17/50\n",
            "196/196 [==============================] - 77s 392ms/step - loss: 0.0083 - accuracy: 0.9973 - val_loss: 1.0382 - val_accuracy: 0.8801\n",
            "Epoch 18/50\n",
            "196/196 [==============================] - 75s 384ms/step - loss: 0.0032 - accuracy: 0.9990 - val_loss: 1.2876 - val_accuracy: 0.8756\n",
            "Epoch 19/50\n",
            "196/196 [==============================] - 68s 346ms/step - loss: 0.0025 - accuracy: 0.9991 - val_loss: 1.1622 - val_accuracy: 0.8809\n",
            "Epoch 20/50\n",
            "196/196 [==============================] - 67s 342ms/step - loss: 0.0046 - accuracy: 0.9984 - val_loss: 1.3588 - val_accuracy: 0.8741\n",
            "Epoch 21/50\n",
            "196/196 [==============================] - 67s 342ms/step - loss: 0.0050 - accuracy: 0.9986 - val_loss: 1.2868 - val_accuracy: 0.8803\n",
            "Epoch 22/50\n",
            "196/196 [==============================] - 70s 359ms/step - loss: 0.0191 - accuracy: 0.9938 - val_loss: 1.2076 - val_accuracy: 0.8815\n",
            "Epoch 23/50\n",
            "196/196 [==============================] - 71s 363ms/step - loss: 0.0068 - accuracy: 0.9979 - val_loss: 1.2914 - val_accuracy: 0.8715\n",
            "Epoch 24/50\n",
            "196/196 [==============================] - 72s 368ms/step - loss: 0.0044 - accuracy: 0.9985 - val_loss: 1.1403 - val_accuracy: 0.8728\n",
            "Epoch 25/50\n",
            "196/196 [==============================] - 72s 368ms/step - loss: 0.0029 - accuracy: 0.9990 - val_loss: 1.7389 - val_accuracy: 0.8720\n",
            "Epoch 26/50\n",
            "196/196 [==============================] - 77s 394ms/step - loss: 0.0080 - accuracy: 0.9973 - val_loss: 1.6969 - val_accuracy: 0.8688\n",
            "Epoch 27/50\n",
            "196/196 [==============================] - 73s 373ms/step - loss: 0.0087 - accuracy: 0.9972 - val_loss: 1.1778 - val_accuracy: 0.8824\n",
            "Epoch 28/50\n",
            "196/196 [==============================] - 68s 350ms/step - loss: 0.0055 - accuracy: 0.9982 - val_loss: 1.1755 - val_accuracy: 0.8824\n",
            "Epoch 29/50\n",
            "196/196 [==============================] - 74s 379ms/step - loss: 0.0072 - accuracy: 0.9976 - val_loss: 1.3606 - val_accuracy: 0.8813\n",
            "Epoch 30/50\n",
            "196/196 [==============================] - 67s 340ms/step - loss: 0.0055 - accuracy: 0.9981 - val_loss: 1.3011 - val_accuracy: 0.8810\n",
            "Epoch 31/50\n",
            "196/196 [==============================] - 67s 344ms/step - loss: 0.0011 - accuracy: 0.9997 - val_loss: 1.5938 - val_accuracy: 0.8815\n",
            "Epoch 32/50\n",
            "196/196 [==============================] - 272s 1s/step - loss: 0.0025 - accuracy: 0.9993 - val_loss: 1.5651 - val_accuracy: 0.8792\n",
            "Epoch 33/50\n",
            "196/196 [==============================] - 74s 377ms/step - loss: 5.1046e-04 - accuracy: 0.9998 - val_loss: 1.6865 - val_accuracy: 0.8816\n",
            "Epoch 34/50\n",
            "196/196 [==============================] - 69s 352ms/step - loss: 1.8327e-04 - accuracy: 1.0000 - val_loss: 1.8898 - val_accuracy: 0.8792\n",
            "Epoch 35/50\n",
            "196/196 [==============================] - 66s 337ms/step - loss: 0.0149 - accuracy: 0.9955 - val_loss: 1.0009 - val_accuracy: 0.8773\n",
            "Epoch 36/50\n",
            "196/196 [==============================] - 71s 361ms/step - loss: 0.0066 - accuracy: 0.9979 - val_loss: 1.3993 - val_accuracy: 0.8782\n",
            "Epoch 37/50\n",
            "196/196 [==============================] - 72s 369ms/step - loss: 0.0012 - accuracy: 0.9996 - val_loss: 1.7804 - val_accuracy: 0.8772\n",
            "Epoch 38/50\n",
            "196/196 [==============================] - 77s 393ms/step - loss: 0.0039 - accuracy: 0.9988 - val_loss: 1.4642 - val_accuracy: 0.8800\n",
            "Epoch 39/50\n",
            "196/196 [==============================] - 73s 373ms/step - loss: 0.0080 - accuracy: 0.9973 - val_loss: 1.2448 - val_accuracy: 0.8764\n",
            "Epoch 40/50\n",
            "196/196 [==============================] - 79s 403ms/step - loss: 0.0016 - accuracy: 0.9995 - val_loss: 1.6309 - val_accuracy: 0.8811\n",
            "Epoch 41/50\n",
            "196/196 [==============================] - 66s 338ms/step - loss: 0.0018 - accuracy: 0.9994 - val_loss: 1.6780 - val_accuracy: 0.8733\n",
            "Epoch 42/50\n",
            "196/196 [==============================] - 66s 337ms/step - loss: 0.0030 - accuracy: 0.9990 - val_loss: 1.5043 - val_accuracy: 0.8758\n",
            "Epoch 43/50\n",
            "196/196 [==============================] - 66s 338ms/step - loss: 0.0041 - accuracy: 0.9986 - val_loss: 1.4611 - val_accuracy: 0.8800\n",
            "Epoch 44/50\n",
            "196/196 [==============================] - 73s 373ms/step - loss: 0.0085 - accuracy: 0.9974 - val_loss: 1.3843 - val_accuracy: 0.8799\n",
            "Epoch 45/50\n",
            "196/196 [==============================] - 76s 388ms/step - loss: 9.3296e-04 - accuracy: 0.9996 - val_loss: 1.8432 - val_accuracy: 0.8748\n",
            "Epoch 46/50\n",
            "196/196 [==============================] - 68s 346ms/step - loss: 0.0081 - accuracy: 0.9977 - val_loss: 1.6289 - val_accuracy: 0.8779\n",
            "Epoch 47/50\n",
            "196/196 [==============================] - 67s 343ms/step - loss: 0.0018 - accuracy: 0.9995 - val_loss: 1.6241 - val_accuracy: 0.8771\n",
            "Epoch 48/50\n",
            "196/196 [==============================] - 68s 345ms/step - loss: 0.0154 - accuracy: 0.9954 - val_loss: 1.0822 - val_accuracy: 0.8782\n",
            "Epoch 49/50\n",
            "196/196 [==============================] - 68s 349ms/step - loss: 0.0054 - accuracy: 0.9984 - val_loss: 1.2802 - val_accuracy: 0.8739\n",
            "Epoch 50/50\n",
            "196/196 [==============================] - 68s 346ms/step - loss: 9.8220e-04 - accuracy: 0.9995 - val_loss: 1.6884 - val_accuracy: 0.8774\n"
          ]
        }
      ],
      "source": [
        "history = model.fit(X_train,y_train, validation_data=(X_test,y_test),epochs=50,batch_size=128)"
      ]
    },
    {
      "cell_type": "markdown",
      "metadata": {
        "id": "VNtWES4lKnrJ"
      },
      "source": [
        "* final evaluation of the model"
      ]
    },
    {
      "cell_type": "code",
      "execution_count": null,
      "metadata": {
        "id": "E9j9Hf8bKnrK",
        "outputId": "c80e6336-f02f-4fdd-a7fe-7221a8e02ca5"
      },
      "outputs": [
        {
          "name": "stdout",
          "output_type": "stream",
          "text": [
            "782/782 [==============================] - 17s 22ms/step - loss: 1.6884 - accuracy: 0.8774\n"
          ]
        }
      ],
      "source": [
        "\n",
        "scores = model.evaluate(X_test,y_test,verbose=1)"
      ]
    },
    {
      "cell_type": "markdown",
      "metadata": {
        "id": "ZzP4IE8GKnrK"
      },
      "source": [
        "# plots of accuracy and loss function and some predictions "
      ]
    },
    {
      "cell_type": "code",
      "execution_count": null,
      "metadata": {
        "id": "XdngSIWGKnrK"
      },
      "outputs": [],
      "source": [
        "prediction = model.predict(X_test)"
      ]
    },
    {
      "cell_type": "code",
      "execution_count": null,
      "metadata": {
        "id": "_WYJu9bPKnrL",
        "outputId": "05ce8e3a-ae45-450a-c735-1c072196f617"
      },
      "outputs": [
        {
          "name": "stdout",
          "output_type": "stream",
          "text": [
            "[1.7490110e-17 1.0000000e+00 9.3644643e-01 9.9989164e-01 1.0000000e+00]\n"
          ]
        }
      ],
      "source": [
        "import numpy as np\n",
        "prediction = np.asarray(prediction).reshape(1, -1)[0,:]\n",
        "print(prediction[:5])"
      ]
    },
    {
      "cell_type": "code",
      "execution_count": null,
      "metadata": {
        "id": "lP_jG5R-KnrL",
        "outputId": "dc18ae60-4fbc-4714-d30f-09d4ba6c2262"
      },
      "outputs": [
        {
          "name": "stdout",
          "output_type": "stream",
          "text": [
            "[0 1 1 0 1]\n"
          ]
        }
      ],
      "source": [
        "print(y_test[:5])"
      ]
    },
    {
      "cell_type": "code",
      "execution_count": null,
      "metadata": {
        "id": "yY52XkosKnrM"
      },
      "outputs": [],
      "source": [
        "from sklearn.metrics import confusion_matrix\n"
      ]
    },
    {
      "cell_type": "code",
      "execution_count": null,
      "metadata": {
        "id": "kntq77ObKnrM"
      },
      "outputs": [],
      "source": [
        "true = pd.Categorical(list(np.where(np.array(y_test) == 1, 'good','bad')), categories = ['good','bad'])\n",
        "prediction1 = pd.Categorical(list(np.where(np.array(prediction) == 1, 'good','bad')), categories = ['good','bad'])"
      ]
    },
    {
      "cell_type": "code",
      "execution_count": null,
      "metadata": {
        "id": "XgjCTIkIKnrM",
        "outputId": "5d0d0310-020c-4817-b1ec-d78e39db170b"
      },
      "outputs": [
        {
          "data": {
            "image/png": "[encoded data removed]",
            "text/plain": [
              "<Figure size 432x288 with 2 Axes>"
            ]
          },
          "metadata": {
            "needs_background": "light"
          },
          "output_type": "display_data"
        }
      ],
      "source": [
        "CM = confusion_matrix(true, prediction1)\n",
        "ax = plt.axes()\n",
        "sn.heatmap(CM, annot=True, \n",
        "           annot_kws={\"size\": 15}, \n",
        "           xticklabels=['good','bad'], \n",
        "           yticklabels=['good','bad'], ax = ax)\n",
        "ax.set_title('Confusion matrix')\n",
        "plt.show()"
      ]
    },
    {
      "cell_type": "code",
      "execution_count": null,
      "metadata": {
        "id": "Gj1_t5AsKnrM"
      },
      "outputs": [],
      "source": [
        "def plot_accuracy_loss(history):\n",
        "    \"\"\"\n",
        "        Plot the accuracy and the loss during the training of the nn.\n",
        "    \"\"\"\n",
        "    fig = plt.figure(figsize=(20,10))\n",
        "\n",
        "    # Plot accuracy\n",
        "    plt.subplot(221)\n",
        "    plt.plot(history.history['accuracy'],'bo--', label = \"accuracy\")\n",
        "    plt.plot(history.history['val_accuracy'], 'ro--', label = \"val_accuracy\")\n",
        "    plt.title(\"train_acc vs val_acc\")\n",
        "    plt.ylabel(\"accuracy\")\n",
        "    plt.xlabel(\"epochs\")\n",
        "    plt.legend()\n",
        "\n",
        "    # Plot loss function\n",
        "    plt.subplot(222)\n",
        "    plt.plot(history.history['loss'],'bo--', label = \"loss\")\n",
        "    plt.plot(history.history['val_loss'], 'ro--', label = \"val_loss\")\n",
        "    plt.title(\"train_loss vs val_loss\")\n",
        "    plt.ylabel(\"loss\")\n",
        "    plt.xlabel(\"epochs\")\n",
        "\n",
        "    plt.legend()\n",
        "    plt.show()"
      ]
    },
    {
      "cell_type": "code",
      "execution_count": null,
      "metadata": {
        "id": "AY2HL1s9KnrN",
        "outputId": "69aac76d-fabe-4fd7-c444-05a9b5fd98ae"
      },
      "outputs": [
        {
          "data": {
            "image/png": "[encoded data removed]",
            "text/plain": [
              "<Figure size 1440x720 with 2 Axes>"
            ]
          },
          "metadata": {
            "needs_background": "light"
          },
          "output_type": "display_data"
        }
      ],
      "source": [
        "plot_accuracy_loss(history)"
      ]
    }
  ],
  "metadata": {
    "interpreter": {
      "hash": "0add21ba4d0cc7378d54c62c01afe8380ef97298173618250dee99eafd3f9c67"
    },
    "kernelspec": {
      "display_name": "Python 3.9.5 64-bit",
      "language": "python",
      "name": "python3"
    },
    "language_info": {
      "codemirror_mode": {
        "name": "ipython",
        "version": 3
      },
      "file_extension": ".py",
      "mimetype": "text/x-python",
      "name": "python",
      "nbconvert_exporter": "python",
      "pygments_lexer": "ipython3",
      "version": "3.9.5"
    },
    "orig_nbformat": 4,
    "colab": {
      "name": "project model1.ipynb",
      "provenance": [],
      "include_colab_link": true
    }
  },
  "nbformat": 4,
  "nbformat_minor": 0
}