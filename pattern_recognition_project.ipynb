{
  "nbformat": 4,
  "nbformat_minor": 0,
  "metadata": {
    "colab": {
      "name": "pattern recognition project.ipynb",
      "provenance": [],
      "toc_visible": true,
      "authorship_tag": "ABX9TyM45tE0UpSBcExr62fR22oo",
      "include_colab_link": true
    },
    "kernelspec": {
      "name": "python3",
      "display_name": "Python 3"
    },
    "language_info": {
      "name": "python"
    }
  },
  "cells": [
    {
      "cell_type": "markdown",
      "metadata": {
        "id": "view-in-github",
        "colab_type": "text"
      },
      "source": [
        "<a href=\"https://colab.research.google.com/github/amratallah123/PatternRecognation/blob/master/pattern_recognition_project.ipynb\" target=\"_parent\"><img src=\"https://colab.research.google.com/assets/colab-badge.svg\" alt=\"Open In Colab\"/></a>"
      ]
    },
    {
      "cell_type": "code",
      "source": [
        "from keras.datasets import imdb\n",
        "from keras.models import Sequential\n",
        "from keras.layers import Dense,Flatten\n",
        "from keras.layers.convolutional import Conv1D, MaxPooling1D\n",
        "from keras.layers.embeddings import Embedding\n",
        "from keras.preprocessing import sequence\n",
        "import matplotlib.pyplot as plt             \n",
        "import seaborn as sn\n",
        "import pandas as pd"
      ],
      "metadata": {
        "id": "a-aLSM0wl7fs"
      },
      "execution_count": null,
      "outputs": []
    },
    {
      "cell_type": "code",
      "source": [
        "top_words=5000\n",
        "input_length= 500\n",
        "(X_train,y_train),(X_test, y_test)= imdb.load_data(num_words=top_words)\n",
        "\n",
        "\n",
        "\n",
        "\n"
      ],
      "metadata": {
        "id": "YgRzQ7xUl_k-",
        "colab": {
          "base_uri": "https://localhost:8080/"
        },
        "outputId": "d91231fa-568f-4a30-b977-f92530cf5c90"
      },
      "execution_count": null,
      "outputs": [
        {
          "output_type": "stream",
          "name": "stdout",
          "text": [
            "Downloading data from https://storage.googleapis.com/tensorflow/tf-keras-datasets/imdb.npz\n",
            "17465344/17464789 [==============================] - 0s 0us/step\n",
            "17473536/17464789 [==============================] - 0s 0us/step\n"
          ]
        }
      ]
    },
    {
      "cell_type": "code",
      "source": [
        "# Convert movie review data to feature matrix\n",
        "X_train =  sequence.pad_sequences(X_train,maxlen=input_length)\n",
        "print(); print(X_train.shape); print(X_train)\n",
        "\n",
        "X_test =  sequence.pad_sequences(X_test,maxlen=input_length)"
      ],
      "metadata": {
        "colab": {
          "base_uri": "https://localhost:8080/"
        },
        "id": "eayS84pDmCa4",
        "outputId": "1352fb49-e8c7-4652-9400-88786201a15e"
      },
      "execution_count": null,
      "outputs": [
        {
          "output_type": "stream",
          "name": "stdout",
          "text": [
            "\n",
            "(25000, 500)\n",
            "[[   0    0    0 ...   19  178   32]\n",
            " [   0    0    0 ...   16  145   95]\n",
            " [   0    0    0 ...    7  129  113]\n",
            " ...\n",
            " [   0    0    0 ...    4 3586    2]\n",
            " [   0    0    0 ...   12    9   23]\n",
            " [   0    0    0 ...  204  131    9]]\n"
          ]
        }
      ]
    },
    {
      "cell_type": "code",
      "source": [
        "\n",
        "\n",
        "# setup a CNN network\n",
        "model = Sequential()\n",
        "model.add(Embedding(top_words,32,input_length=input_length))\n",
        "model.add(Conv1D(filters=32,kernel_size=3,padding='same', activation='relu'))\n",
        "model.add(MaxPooling1D(pool_size=2))\n",
        "model.add(Flatten())\n",
        "model.add(Dense(250,activation='relu'))\n",
        "model.add(Dense(1,activation='sigmoid'))"
      ],
      "metadata": {
        "id": "q5iwMbZtmRIU"
      },
      "execution_count": null,
      "outputs": []
    },
    {
      "cell_type": "code",
      "source": [
        "model.compile(loss='binary_crossentropy',optimizer='adam', metrics=['accuracy'])\n"
      ],
      "metadata": {
        "id": "SQ99MAOhmTA8"
      },
      "execution_count": null,
      "outputs": []
    },
    {
      "cell_type": "code",
      "source": [
        "history= model.fit(X_train,y_train, validation_data=(X_test,y_test),epochs=20,batch_size=128)\n"
      ],
      "metadata": {
        "colab": {
          "base_uri": "https://localhost:8080/"
        },
        "id": "gfhHj593mj9M",
        "outputId": "e315c12f-7676-4b7f-e91c-a13b94826358"
      },
      "execution_count": null,
      "outputs": [
        {
          "output_type": "stream",
          "name": "stdout",
          "text": [
            "Epoch 1/20\n",
            "196/196 [==============================] - 22s 108ms/step - loss: 0.6186 - accuracy: 0.6561 - val_loss: 0.4786 - val_accuracy: 0.8635\n",
            "Epoch 2/20\n",
            "196/196 [==============================] - 21s 107ms/step - loss: 0.4237 - accuracy: 0.8883 - val_loss: 0.4202 - val_accuracy: 0.8827\n",
            "Epoch 3/20\n",
            "196/196 [==============================] - 20s 105ms/step - loss: 0.3472 - accuracy: 0.9200 - val_loss: 0.4029 - val_accuracy: 0.8810\n",
            "Epoch 4/20\n",
            "196/196 [==============================] - 21s 105ms/step - loss: 0.2962 - accuracy: 0.9366 - val_loss: 0.3895 - val_accuracy: 0.8790\n",
            "Epoch 5/20\n",
            "196/196 [==============================] - 21s 105ms/step - loss: 0.2581 - accuracy: 0.9472 - val_loss: 0.3961 - val_accuracy: 0.8763\n",
            "Epoch 6/20\n",
            "196/196 [==============================] - 21s 105ms/step - loss: 0.2262 - accuracy: 0.9558 - val_loss: 0.4017 - val_accuracy: 0.8741\n",
            "Epoch 7/20\n",
            "196/196 [==============================] - 21s 107ms/step - loss: 0.1968 - accuracy: 0.9629 - val_loss: 0.4044 - val_accuracy: 0.8674\n",
            "Epoch 8/20\n",
            "196/196 [==============================] - 21s 106ms/step - loss: 0.1751 - accuracy: 0.9685 - val_loss: 0.4322 - val_accuracy: 0.8712\n",
            "Epoch 9/20\n",
            "196/196 [==============================] - 21s 106ms/step - loss: 0.1592 - accuracy: 0.9705 - val_loss: 0.4725 - val_accuracy: 0.8712\n",
            "Epoch 10/20\n",
            "196/196 [==============================] - 21s 105ms/step - loss: 0.1475 - accuracy: 0.9718 - val_loss: 0.4536 - val_accuracy: 0.8630\n",
            "Epoch 11/20\n",
            "196/196 [==============================] - 21s 107ms/step - loss: 0.1385 - accuracy: 0.9732 - val_loss: 0.5119 - val_accuracy: 0.8702\n",
            "Epoch 12/20\n",
            "196/196 [==============================] - 20s 105ms/step - loss: 0.1286 - accuracy: 0.9748 - val_loss: 0.5270 - val_accuracy: 0.8665\n",
            "Epoch 13/20\n",
            "196/196 [==============================] - 21s 105ms/step - loss: 0.1223 - accuracy: 0.9750 - val_loss: 0.6175 - val_accuracy: 0.8700\n",
            "Epoch 14/20\n",
            "196/196 [==============================] - 21s 107ms/step - loss: 0.1174 - accuracy: 0.9753 - val_loss: 0.5302 - val_accuracy: 0.8650\n",
            "Epoch 15/20\n",
            "196/196 [==============================] - 21s 107ms/step - loss: 0.1141 - accuracy: 0.9750 - val_loss: 0.5591 - val_accuracy: 0.8666\n",
            "Epoch 16/20\n",
            "196/196 [==============================] - 21s 108ms/step - loss: 0.1108 - accuracy: 0.9754 - val_loss: 0.5823 - val_accuracy: 0.8661\n",
            "Epoch 17/20\n",
            "196/196 [==============================] - 21s 106ms/step - loss: 0.1090 - accuracy: 0.9750 - val_loss: 0.6427 - val_accuracy: 0.8671\n",
            "Epoch 18/20\n",
            "196/196 [==============================] - 21s 108ms/step - loss: 0.1163 - accuracy: 0.9710 - val_loss: 0.7760 - val_accuracy: 0.8662\n",
            "Epoch 19/20\n",
            "196/196 [==============================] - 21s 107ms/step - loss: 0.1235 - accuracy: 0.9671 - val_loss: 0.6498 - val_accuracy: 0.8685\n",
            "Epoch 20/20\n",
            "196/196 [==============================] - 21s 106ms/step - loss: 0.1057 - accuracy: 0.9745 - val_loss: 0.6302 - val_accuracy: 0.8676\n"
          ]
        }
      ]
    },
    {
      "cell_type": "code",
      "source": [
        "# final evaluation of the model\n",
        "scores = model.evaluate(X_test,y_test,verbose=1)\n"
      ],
      "metadata": {
        "colab": {
          "base_uri": "https://localhost:8080/"
        },
        "id": "l__vBHVrmlsY",
        "outputId": "7fcdd9d2-be6e-4dab-c282-85a1b5959f6d"
      },
      "execution_count": null,
      "outputs": [
        {
          "output_type": "stream",
          "name": "stdout",
          "text": [
            "782/782 [==============================] - 6s 8ms/step - loss: 0.6302 - accuracy: 0.8676\n"
          ]
        }
      ]
    },
    {
      "cell_type": "code",
      "execution_count": null,
      "metadata": {
        "id": "uA9sbyQelSdf"
      },
      "outputs": [],
      "source": [
        "\n",
        "prediction = model.predict(X_test)"
      ]
    },
    {
      "cell_type": "code",
      "source": [
        "import numpy as np\n",
        "prediction = np.asarray(prediction).reshape(1, -1)[0,:]\n",
        "print(prediction[:10])"
      ],
      "metadata": {
        "colab": {
          "base_uri": "https://localhost:8080/"
        },
        "id": "T-0aKgEGleKs",
        "outputId": "138a523d-04ef-4992-910c-f2409a97dbf2"
      },
      "execution_count": null,
      "outputs": [
        {
          "output_type": "stream",
          "name": "stdout",
          "text": [
            "[0.07402909 1.         0.9984274  0.07402909 1.         0.99375594\n",
            " 1.         0.07402909 1.         1.        ]\n"
          ]
        }
      ]
    },
    {
      "cell_type": "code",
      "source": [
        "print(y_test[:10])"
      ],
      "metadata": {
        "colab": {
          "base_uri": "https://localhost:8080/"
        },
        "id": "E1ZJl-txlgat",
        "outputId": "812195ef-a5c2-421e-8b78-51a3522744c7"
      },
      "execution_count": null,
      "outputs": [
        {
          "output_type": "stream",
          "name": "stdout",
          "text": [
            "[0 1 1 0 1 1 1 0 0 1]\n"
          ]
        }
      ]
    },
    {
      "cell_type": "code",
      "source": [
        "from sklearn.metrics import confusion_matrix\n"
      ],
      "metadata": {
        "id": "r6CQh63wodSv"
      },
      "execution_count": null,
      "outputs": []
    },
    {
      "cell_type": "code",
      "source": [
        "true = pd.Categorical(list(np.where(np.array(y_test) == 1, 'good','bad')), categories = ['good','bad'])\n",
        "prediction1 = pd.Categorical(list(np.where(np.array(prediction) == 1, 'good','bad')), categories = ['good','bad'])"
      ],
      "metadata": {
        "id": "c5iRizKj67T3"
      },
      "execution_count": null,
      "outputs": []
    },
    {
      "cell_type": "code",
      "source": [
        "CM = confusion_matrix(true, prediction1)\n",
        "print(CM)\n",
        "ax = plt.axes()\n",
        "sn.heatmap(CM, annot=True, \n",
        "           annot_kws={\"size\": 15}, \n",
        "           xticklabels=['good','bad'], \n",
        "           yticklabels=['good','bad'], ax = ax)\n",
        "ax.set_title('Confusion matrix')\n",
        "plt.show()"
      ],
      "metadata": {
        "colab": {
          "base_uri": "https://localhost:8080/",
          "height": 316
        },
        "id": "_ySKlzdZniFz",
        "outputId": "8b38f46a-1dab-4733-a482-020b96f852a9"
      },
      "execution_count": null,
      "outputs": [
        {
          "output_type": "stream",
          "name": "stdout",
          "text": [
            "[[12348   152]\n",
            " [ 6898  5602]]\n"
          ]
        },
        {
          "output_type": "display_data",
          "data": {
            "text/plain": [
              "<Figure size 432x288 with 2 Axes>"
            ],
            "image/png": "[encoded data removed]"
          },
          "metadata": {
            "needs_background": "light"
          }
        }
      ]
    },
    {
      "cell_type": "code",
      "source": [
        "def plot_accuracy_loss(history):\n",
        "    \"\"\"\n",
        "        Plot the accuracy and the loss during the training of the nn.\n",
        "    \"\"\"\n",
        "    fig = plt.figure(figsize=(20,10))\n",
        "\n",
        "    # Plot accuracy\n",
        "    plt.subplot(221)\n",
        "    plt.plot(history.history['accuracy'],'bo--', label = \"accuracy\")\n",
        "    plt.plot(history.history['val_accuracy'], 'ro--', label = \"val_accuracy\")\n",
        "    plt.title(\"train_acc vs val_acc\")\n",
        "    plt.ylabel(\"accuracy\")\n",
        "    plt.xlabel(\"epochs\")\n",
        "    plt.legend()\n",
        "\n",
        "    # Plot loss function\n",
        "    plt.subplot(222)\n",
        "    plt.plot(history.history['loss'],'bo--', label = \"loss\")\n",
        "    plt.plot(history.history['val_loss'], 'ro--', label = \"val_loss\")\n",
        "    plt.title(\"train_loss vs val_loss\")\n",
        "    plt.ylabel(\"loss\")\n",
        "    plt.xlabel(\"epochs\")\n",
        "\n",
        "    plt.legend()\n",
        "    plt.show()"
      ],
      "metadata": {
        "id": "p-geYK6msEH3"
      },
      "execution_count": null,
      "outputs": []
    },
    {
      "cell_type": "code",
      "source": [
        "plot_accuracy_loss(history)\n"
      ],
      "metadata": {
        "colab": {
          "base_uri": "https://localhost:8080/",
          "height": 325
        },
        "id": "Mgy-bt_3sYwM",
        "outputId": "6e9c6adc-433b-4393-f0c6-88201c21f38e"
      },
      "execution_count": null,
      "outputs": [
        {
          "output_type": "display_data",
          "data": {
            "text/plain": [
              "<Figure size 1440x720 with 2 Axes>"
            ],
            "image/png": "[encoded data removed]"
          },
          "metadata": {
            "needs_background": "light"
          }
        }
      ]
    }
  ]
}